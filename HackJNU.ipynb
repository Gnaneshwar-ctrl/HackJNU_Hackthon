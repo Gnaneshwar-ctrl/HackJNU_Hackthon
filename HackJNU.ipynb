{
  "nbformat": 4,
  "nbformat_minor": 0,
  "metadata": {
    "colab": {
      "name": "HackJNU.ipynb",
      "provenance": [],
      "collapsed_sections": []
    },
    "kernelspec": {
      "name": "python3",
      "display_name": "Python 3"
    },
    "language_info": {
      "name": "python"
    }
  },
  "cells": [
    {
      "cell_type": "markdown",
      "metadata": {
        "id": "RMI8TG8oy3NP"
      },
      "source": [
        "Brain tumour detection using CNN "
      ]
    },
    {
      "cell_type": "code",
      "metadata": {
        "id": "vZQF7QHLmLD5"
      },
      "source": [
        "# importing required packages\n",
        "import tensorflow as tf\n",
        "from tensorflow.keras.layers import Conv2D, Input, ZeroPadding2D, BatchNormalization, Activation, MaxPooling2D, Flatten, Dense\n",
        "from tensorflow.keras.models import Model, load_model\n",
        "from tensorflow.keras.callbacks import TensorBoard, ModelCheckpoint\n",
        "from keras.preprocessing.image import ImageDataGenerator\n",
        "from sklearn.model_selection import train_test_split\n",
        "from sklearn.metrics import f1_score\n",
        "from sklearn.utils import shuffle\n",
        "import cv2\n",
        "import imutils\n",
        "import numpy as np\n",
        "import matplotlib.pyplot as plt\n",
        "import time\n",
        "from os import listdir\n",
        "\n",
        "%matplotlib inline"
      ],
      "execution_count": null,
      "outputs": []
    },
    {
      "cell_type": "markdown",
      "metadata": {
        "id": "7ATQCUsmzS_c"
      },
      "source": [
        "importing data from kaggle"
      ]
    },
    {
      "cell_type": "code",
      "metadata": {
        "id": "TlckUGD8zuWA"
      },
      "source": [
        "! pip install -q kaggle"
      ],
      "execution_count": null,
      "outputs": []
    },
    {
      "cell_type": "code",
      "metadata": {
        "id": "1JR-KDIZxAso"
      },
      "source": [
        "from google.colab import files"
      ],
      "execution_count": null,
      "outputs": []
    },
    {
      "cell_type": "code",
      "metadata": {
        "id": "d0axlaIb0v7m"
      },
      "source": [
        "files.upload()\n"
      ],
      "execution_count": null,
      "outputs": []
    },
    {
      "cell_type": "code",
      "metadata": {
        "id": "kQnhCzhp0ylH"
      },
      "source": [
        "! mkdir  ~/.kaggle/"
      ],
      "execution_count": null,
      "outputs": []
    },
    {
      "cell_type": "code",
      "metadata": {
        "id": "hxIX2ztd0_52"
      },
      "source": [
        "! cp kaggle.json  ~/.kaggle/"
      ],
      "execution_count": null,
      "outputs": []
    },
    {
      "cell_type": "code",
      "metadata": {
        "id": "pXBfkb791E-A"
      },
      "source": [
        "! chmod 600  ~/.kaggle/kaggle.json\n"
      ],
      "execution_count": null,
      "outputs": []
    },
    {
      "cell_type": "code",
      "metadata": {
        "id": "zTVceAwA1KjR"
      },
      "source": [
        "! kaggle datasets list"
      ],
      "execution_count": null,
      "outputs": []
    },
    {
      "cell_type": "code",
      "metadata": {
        "id": "J8H5YXEQ1NMK"
      },
      "source": [
        "! mkdir train"
      ],
      "execution_count": null,
      "outputs": []
    },
    {
      "cell_type": "code",
      "metadata": {
        "id": "51Ujb95B1ovP"
      },
      "source": [
        "! kaggle datasets download navoneel/brain-mri-images-for-brain-tumor-detection"
      ],
      "execution_count": null,
      "outputs": []
    },
    {
      "cell_type": "code",
      "metadata": {
        "id": "j3zXVWuI2C54"
      },
      "source": [
        "! unzip train.zip -d train"
      ],
      "execution_count": null,
      "outputs": []
    },
    {
      "cell_type": "markdown",
      "metadata": {
        "id": "240eouhoCQMO"
      },
      "source": [
        "Data pre processing\n"
      ]
    },
    {
      "cell_type": "code",
      "metadata": {
        "id": "XwiZYTNt4-V2"
      },
      "source": [
        "def crop_brain_contour(image, plot=False):\n",
        "    \n",
        "    # Convert the image to grayscale, and blur it slightly\n",
        "    gray = cv2.cvtColor(image, cv2.COLOR_BGR2GRAY)\n",
        "    gray = cv2.GaussianBlur(gray, (5, 5), 0)\n",
        "\n",
        "    # Threshold the image, then perform a series of erosions +\n",
        "    # dilations to remove any small regions of noise\n",
        "    thresh = cv2.threshold(gray, 45, 255, cv2.THRESH_BINARY)[1]\n",
        "    thresh = cv2.erode(thresh, None, iterations=2)\n",
        "    thresh = cv2.dilate(thresh, None, iterations=2)\n",
        "\n",
        "    # Find contours in thresholded image, then grab the largest one\n",
        "    cnts = cv2.findContours(thresh.copy(), cv2.RETR_EXTERNAL, cv2.CHAIN_APPROX_SIMPLE)\n",
        "    cnts = imutils.grab_contours(cnts)\n",
        "    c = max(cnts, key=cv2.contourArea)\n",
        "    \n",
        "\n",
        "    # Find the extreme points\n",
        "    extLeft = tuple(c[c[:, :, 0].argmin()][0])\n",
        "    extRight = tuple(c[c[:, :, 0].argmax()][0])\n",
        "    extTop = tuple(c[c[:, :, 1].argmin()][0])\n",
        "    extBot = tuple(c[c[:, :, 1].argmax()][0])\n",
        "    \n",
        "    # crop new image out of the original image using the four extreme points (left, right, top, bottom)\n",
        "    new_image = image[extTop[1]:extBot[1], extLeft[0]:extRight[0]]            \n",
        "\n",
        "    if plot:\n",
        "        plt.figure()\n",
        "\n",
        "        plt.subplot(1, 2, 1)\n",
        "        plt.imshow(image)\n",
        "        \n",
        "        plt.tick_params(axis='both', which='both', \n",
        "                        top=False, bottom=False, left=False, right=False,\n",
        "                        labelbottom=False, labeltop=False, labelleft=False, labelright=False)\n",
        "        \n",
        "        plt.title('Original Image')\n",
        "            \n",
        "        plt.subplot(1, 2, 2)\n",
        "        plt.imshow(new_image)\n",
        "\n",
        "        plt.tick_params(axis='both', which='both', \n",
        "                        top=False, bottom=False, left=False, right=False,\n",
        "                        labelbottom=False, labeltop=False, labelleft=False, labelright=False)\n",
        "\n",
        "        plt.title('Cropped Image')\n",
        "        \n",
        "        plt.show()\n",
        "    \n",
        "    return new_image"
      ],
      "execution_count": null,
      "outputs": []
    },
    {
      "cell_type": "code",
      "metadata": {
        "id": "4Fb-KdsmL-E1"
      },
      "source": [
        "ex_img = cv2.imread('train/yes/Y1.jpg')\n",
        "ex_new_img = crop_brain_contour(ex_img, True)"
      ],
      "execution_count": null,
      "outputs": []
    },
    {
      "cell_type": "code",
      "metadata": {
        "id": "IQkEo-KFMTBY"
      },
      "source": [
        "def load_data(dir_list, image_size):\n",
        "    # load all images in a directory\n",
        "    X = []\n",
        "    y = []\n",
        "    image_width, image_height = image_size\n",
        "    \n",
        "    for directory in dir_list:\n",
        "        for filename in listdir(directory):\n",
        "            # load the image\n",
        "            image = cv2.imread(directory + '\\\\' + filename)\n",
        "            # crop the brain and ignore the unnecessary rest part of the image\n",
        "            image = crop_brain_contour(image, plot=False)\n",
        "            # resize image\n",
        "            image = cv2.resize(image, dsize=(image_width, image_height), interpolation=cv2.INTER_CUBIC)\n",
        "            # normalize values\n",
        "            image = image / 255.\n",
        "            # convert image to numpy array and append it to X\n",
        "            X.append(image)\n",
        "            # append a value of 1 to the target array if the image\n",
        "            # is in the folder named 'yes', otherwise append 0.\n",
        "            if directory[-3:] == 'yes':\n",
        "                y.append([1])\n",
        "            else:\n",
        "                y.append([0])\n",
        "                \n",
        "    X = np.array(X)\n",
        "    y = np.array(y)\n",
        "    \n",
        "    # Shuffle the data\n",
        "    X, y = shuffle(X, y)\n",
        "    \n",
        "    print(f'Number of examples is: {len(X)}')\n",
        "    print(f'X shape is: {X.shape}')\n",
        "    print(f'y shape is: {y.shape}')\n",
        "    \n",
        "    return X, y"
      ],
      "execution_count": null,
      "outputs": []
    },
    {
      "cell_type": "markdown",
      "metadata": {
        "id": "KZN46dvHNSWo"
      },
      "source": [
        "splitting data\n"
      ]
    },
    {
      "cell_type": "code",
      "metadata": {
        "id": "Pvcfsg18QeyZ"
      },
      "source": [
        "augmented_yes = 'train/yes/' \n",
        "augmented_no = 'train/no/'\n",
        "\n",
        "IMG_WIDTH, IMG_HEIGHT = (240, 240)\n",
        "\n",
        "X, y = load_data([augmented_yes, augmented_no], (IMG_WIDTH, IMG_HEIGHT))"
      ],
      "execution_count": null,
      "outputs": []
    },
    {
      "cell_type": "code",
      "metadata": {
        "id": "tBaO8k0UP-q-"
      },
      "source": [
        "def split_data(X, y, test_size=0.2):\n",
        "    X_train, X_test_val, y_train, y_test_val = train_test_split(X, y, test_size=test_size)\n",
        "    X_test, X_val, y_test, y_val = train_test_split(X_test_val, y_test_val, test_size=0.5)\n",
        "    \n",
        "    return X_train, y_train, X_val, y_val, X_test, y_test"
      ],
      "execution_count": null,
      "outputs": []
    },
    {
      "cell_type": "code",
      "metadata": {
        "id": "6cjZFvxfQDl2"
      },
      "source": [
        "X_train, y_train, X_val, y_val, X_test, y_test = split_data(X, y, test_size=0.3)"
      ],
      "execution_count": null,
      "outputs": []
    },
    {
      "cell_type": "code",
      "metadata": {
        "id": "Hv-iHcsFQI-Y"
      },
      "source": [
        "print (\"number of training examples = \" + str(X_train.shape[0]))\n",
        "print (\"number of development examples = \" + str(X_val.shape[0]))\n",
        "print (\"number of test examples = \" + str(X_test.shape[0]))\n",
        "print (\"X_train shape: \" + str(X_train.shape))\n",
        "print (\"Y_train shape: \" + str(y_train.shape))\n",
        "print (\"X_val (dev) shape: \" + str(X_val.shape))\n",
        "print (\"Y_val (dev) shape: \" + str(y_val.shape))\n",
        "print (\"X_test shape: \" + str(X_test.shape))\n",
        "print (\"Y_test shape: \" + str(y_test.shape))"
      ],
      "execution_count": null,
      "outputs": []
    },
    {
      "cell_type": "code",
      "metadata": {
        "id": "aEj9p3litfNI"
      },
      "source": [
        "def hms_string(sec_elapsed):\n",
        "    h = int(sec_elapsed / (60 * 60))\n",
        "    m = int((sec_elapsed % (60 * 60)) / 60)\n",
        "    s = sec_elapsed % 60\n",
        "    return f\"{h}:{m}:{round(s,1)}\""
      ],
      "execution_count": null,
      "outputs": []
    },
    {
      "cell_type": "code",
      "metadata": {
        "id": "h4EVWtKPtiuz"
      },
      "source": [
        "def compute_f1_score(y_true, prob):\n",
        "    # convert the vector of probabilities to a target vector\n",
        "    y_pred = np.where(prob > 0.5, 1, 0)\n",
        "    \n",
        "    score = f1_score(y_true, y_pred)\n",
        "    \n",
        "    return score"
      ],
      "execution_count": null,
      "outputs": []
    },
    {
      "cell_type": "markdown",
      "metadata": {
        "id": "nIpbwjKLtpIZ"
      },
      "source": [
        "Building model"
      ]
    },
    {
      "cell_type": "code",
      "metadata": {
        "id": "AlfS1BIItla2"
      },
      "source": [
        "def build_model(input_shape):\n",
        "    # Define the input placeholder as a tensor with shape input_shape. \n",
        "    X_input = Input(input_shape) # shape=(?, 240, 240, 3)\n",
        "    \n",
        "    # Zero-Padding: pads the border of X_input with zeroes\n",
        "    X = ZeroPadding2D((2, 2))(X_input) # shape=(?, 244, 244, 3)\n",
        "    \n",
        "    # CONV -> BN -> RELU Block applied to X\n",
        "    X = Conv2D(32, (7, 7), strides = (1, 1), name = 'conv0')(X)\n",
        "    X = BatchNormalization(axis = 3, name = 'bn0')(X)\n",
        "    X = Activation('relu')(X) # shape=(?, 238, 238, 32)\n",
        "    \n",
        "    # MAXPOOL\n",
        "    X = MaxPooling2D((4, 4), name='max_pool0')(X) # shape=(?, 59, 59, 32) \n",
        "    \n",
        "    # MAXPOOL\n",
        "    X = MaxPooling2D((4, 4), name='max_pool1')(X) # shape=(?, 14, 14, 32)\n",
        "    \n",
        "    # FLATTEN X \n",
        "    X = Flatten()(X) # shape=(?, 6272)\n",
        "    # FULLYCONNECTED\n",
        "    X = Dense(1, activation='sigmoid', name='fc')(X) # shape=(?, 1)\n",
        "    \n",
        "    # Create model. This creates your Keras model instance, you'll use this instance to train/test the model.\n",
        "    model = Model(inputs = X_input, outputs = X, name='BrainDetectionModel')\n",
        "    \n",
        "    return model"
      ],
      "execution_count": null,
      "outputs": []
    },
    {
      "cell_type": "code",
      "metadata": {
        "id": "8uWCu93zttf1"
      },
      "source": [
        "IMG_SHAPE = (IMG_WIDTH, IMG_HEIGHT, 3)"
      ],
      "execution_count": null,
      "outputs": []
    },
    {
      "cell_type": "code",
      "metadata": {
        "id": "5uoKyfCltwkc"
      },
      "source": [
        "model = build_model(IMG_SHAPE)"
      ],
      "execution_count": null,
      "outputs": []
    },
    {
      "cell_type": "code",
      "metadata": {
        "id": "pv8QYKo7t0Sk"
      },
      "source": [
        "model.summary()"
      ],
      "execution_count": null,
      "outputs": []
    },
    {
      "cell_type": "code",
      "metadata": {
        "id": "KMyJnbQPt3qV"
      },
      "source": [
        "model.compile(optimizer='adam', loss='binary_crossentropy', metrics=['accuracy'])"
      ],
      "execution_count": null,
      "outputs": []
    },
    {
      "cell_type": "code",
      "metadata": {
        "id": "-fdLshIrt4eu"
      },
      "source": [
        "log_file_name = f'brain_tumor_detection_cnn_{int(time.time())}'\n",
        "tensorboard = TensorBoard(log_dir=f'logs/{log_file_name}')"
      ],
      "execution_count": null,
      "outputs": []
    },
    {
      "cell_type": "code",
      "metadata": {
        "id": "ogWZQr24t7a8"
      },
      "source": [
        "filepath=\"cnn-parameters-improvement-{epoch:02d}-{val_acc:.2f}\"\n",
        "# save the model with the best validation (development) accuracy till now\n",
        "checkpoint = ModelCheckpoint(\"models/{}.model\".format(filepath, monitor='val_acc', verbose=1, save_best_only=True, mode='max'))"
      ],
      "execution_count": null,
      "outputs": []
    },
    {
      "cell_type": "markdown",
      "metadata": {
        "id": "78e6viiHuCf1"
      },
      "source": [
        "training "
      ]
    },
    {
      "cell_type": "code",
      "metadata": {
        "id": "5CneuzTFt_Lp"
      },
      "source": [
        "start_time = time.time()\n",
        "\n",
        "model.fit(x=X_train, y=y_train, batch_size=32, epochs=10, validation_data=(X_val, y_val), callbacks=[tensorboard, checkpoint])\n",
        "\n",
        "end_time = time.time()\n",
        "execution_time = (end_time - start_time)\n",
        "print(f\"Elapsed time: {hms_string(execution_time)}\")"
      ],
      "execution_count": null,
      "outputs": []
    },
    {
      "cell_type": "code",
      "metadata": {
        "id": "jMvggdEpuBbd"
      },
      "source": [
        "start_time = time.time()\n",
        "\n",
        "model.fit(x=X_train, y=y_train, batch_size=32, epochs=3, validation_data=(X_val, y_val), callbacks=[tensorboard, checkpoint])\n",
        "\n",
        "end_time = time.time()\n",
        "execution_time = (end_time - start_time)\n",
        "print(f\"Elapsed time: {hms_string(execution_time)}\")"
      ],
      "execution_count": null,
      "outputs": []
    },
    {
      "cell_type": "code",
      "metadata": {
        "id": "VVbx9K3zuLwG"
      },
      "source": [
        "start_time = time.time()\n",
        "\n",
        "model.fit(x=X_train, y=y_train, batch_size=32, epochs=3, validation_data=(X_val, y_val), callbacks=[tensorboard, checkpoint])\n",
        "\n",
        "end_time = time.time()\n",
        "execution_time = (end_time - start_time)\n",
        "print(f\"Elapsed time: {hms_string(execution_time)}\")"
      ],
      "execution_count": null,
      "outputs": []
    },
    {
      "cell_type": "code",
      "metadata": {
        "id": "6zkZHTXSuMi_"
      },
      "source": [
        "start_time = time.time()\n",
        "\n",
        "model.fit(x=X_train, y=y_train, batch_size=32, epochs=5, validation_data=(X_val, y_val), callbacks=[tensorboard, checkpoint])\n",
        "\n",
        "end_time = time.time()\n",
        "execution_time = (end_time - start_time)\n",
        "print(f\"Elapsed time: {hms_string(execution_time)}\")"
      ],
      "execution_count": null,
      "outputs": []
    },
    {
      "cell_type": "code",
      "metadata": {
        "id": "jeTgr_g6uPBi"
      },
      "source": [
        "history = model.history.history\n",
        "for key in history.keys():\n",
        "    print(key)"
      ],
      "execution_count": null,
      "outputs": []
    }
  ]
}